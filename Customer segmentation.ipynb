{
  "cells": [
    {
      "cell_type": "markdown",
      "metadata": {
        "id": "view-in-github",
        "colab_type": "text"
      },
      "source": [
        "<a href=\"https://colab.research.google.com/github/JaohBlack/Analytics/blob/main/Customer%20segmentation.ipynb\" target=\"_parent\"><img src=\"https://colab.research.google.com/assets/colab-badge.svg\" alt=\"Open In Colab\"/></a>"
      ]
    },
    {
      "cell_type": "markdown",
      "metadata": {
        "id": "n9fdmGjFJ8LT"
      },
      "source": [
        "Data is in this link.\n",
        "https://raw.githubusercontent.com/pallavrouth/MarketingAnalytics/refs/heads/main/datasets/churn_practice.csv\n",
        "\n",
        "This data is from a bank and has information on various customer attributes and their transaction characteristics. Here is the data description -\n",
        "- `RowNumber`: corresponds to the record (row) number and has no effect on the output.\n",
        "- `CustomerId`: contains random values and has no effect on customer leaving the bank.\n",
        "- `Surname`: the surname of a customer has no impact on their decision to leave the bank.\n",
        "- `CreditScore`: can have an effect on customer churn, since a customer with a higher credit score is less likely to leave the bank.\n",
        "- `Geography`: a customer’s location can affect their decision to leave the bank.\n",
        "- `Gender`: it’s interesting to explore whether gender plays a role in a customer leaving the bank.\n",
        "- `Age`: this is certainly relevant, since older customers are less likely to leave their bank than younger ones.\n",
        "- `Tenure`: refers to the number of years that the customer has been a client of the bank. Normally, older clients are more loyal and less likely to leave a bank.\n",
        "- `Balance`: also a very good indicator of customer churn, as people with a higher balance in their accounts are less likely to leave the bank - compared to those with lower balances.\n",
        "- `NumOfProducts`: refers to the number of products that a customer has purchased through the bank.\n",
        "- `HasCrCard`: denotes whether or not a customer has a credit card. This column is also relevant, since people with a credit card are less likely to leave the bank.\n",
        "- `IsActiveMember`: active customers are less likely to leave the bank.\n",
        "- `EstimatedSalary`: as with balance, people with lower salaries are more likely to leave the bank compared to those with higher salaries.\n",
        "- `Exited`: whether or not the customer left the bank.\n",
        "\n",
        "The goal is to **generate clusters** based on transaction behavior and then **evaluate the quality of the clusters**. Finally, you are required to **assess whether these clusters can be predicted** using readily available demographic variables. Follow the instructions below to complete these tasks and include the appropriate code.\n",
        "\n",
        "1. Import the dataset. Name the imported dataset as `data`.\n",
        "\n",
        "2. The next step is to clean the dataset `data`:\n",
        "    - Check if there are any missing values. If yes, delete the rows.\n",
        "    - Check if there are any duplicated rows. If yes, delete the duplicates.\n",
        "    - Check the distinct values for gender and geography.\n",
        "    - Rename all columns using the dictionary `rename_cols` below.\n",
        "    - Create a variable `male` which equals 1 if gender is male. Create a variable `france` which equals 1 if geography is `france` and another variable `germany` which equals 1 if geography is `germany` (Hint: Use `np.where` from `numpy` to do this).\n",
        "    - Name this cleaned dataset `data_clean`.\n",
        "\n",
        "3. Perform cluster analysis\n",
        "    - Use the following variables: `credit_score`, `balance`, `num_products`, `tenure`. Scale the data. Call this `scaled_features`.\n",
        "    - Using `scaled_features` check for the number of clusters:\n",
        "        - Use a dendogram to figure out the number of clusters k.\n",
        "        - Use within cluster sum of squares (WSS) to create an elbow plot. Use the `wss_calculation` function from class materials to compute WSS. When using the function `wss_calculation` use `AgglomerativeClustering` function instead of `KMeans`. Once you calculate WSS, generate the WSS versus cluster (k) plot. Comment on if the \"elbow\" coincides with the number of clusters k, as seen from the dendogram.\n",
        "    - Once you determine the number of clusters k, perform `KMeans` clustering.\n",
        "    - Get the cluster labels\n",
        "    - Add this label to the `data_clean` as a new column called `segment`. Call this data `data_segments`.\n",
        "    - Generate average `credit_score`, `balance`, `num_products`, `tenure` by each segment. Comment on whether you notice any differences between the clusters? Name the clusters appropriately. Use your imagination here.\n",
        "\n",
        "4. Check cluster viability: Check for the total number of credit card holders and active members in each segment. Comment on which segment is the best.\n",
        "\n",
        "5. Check if these cluster labels can be predicted using easily available customer variables: `male`, `age`, `est_salary`, `france`, `germany`.\n",
        "    - In order to check this, perform linear discriminant analysis (LDA) using these variables to predict `segment`.\n",
        "    - Calculate the accuracy score between the predictions from the LDA model and segments created by KMeans. Comment on if you think these variables are sufficiently good at predicting cluster membership.\n"
      ]
    },
    {
      "cell_type": "code",
      "execution_count": null,
      "metadata": {
        "id": "BXx5oUrOJ8LV"
      },
      "outputs": [],
      "source": [
        "rename_cols = {\n",
        "    \"CustomerID\" : \"customer_id\",\n",
        "    \"Surname\" : \"surname\",\n",
        "    \"CreditScore\" : \"credit_score\",\n",
        "    \"Geography\" : \"geography\",\n",
        "    \"Gender\" : \"gender\",\n",
        "    \"Age\" : \"age\",\n",
        "    \"Tenure\" : \"tenure\",\n",
        "    \"Balance\" : \"balance\",\n",
        "    \"NumOfProducts\" : \"num_products\",\n",
        "    \"HasCrCard\" : \"has_credit\",\n",
        "    \"IsActiveMember\" : \"is_active\",\n",
        "    \"EstimatedSalary\" : \"est_salary\",\n",
        "    \"Exited\" : \"exited\"\n",
        "}"
      ]
    },
    {
      "cell_type": "code",
      "source": [
        "import pandas as pd\n",
        "import numpy as np\n",
        "data = pd.read_csv(\"https://raw.githubusercontent.com/pallavrouth/MarketingAnalytics/refs/heads/main/datasets/churn_practice.csv\")"
      ],
      "metadata": {
        "id": "9vedOMG6KNLa"
      },
      "execution_count": null,
      "outputs": []
    },
    {
      "cell_type": "code",
      "source": [
        "print(data.isnull().sum( ))\n",
        "data = data.dropna()\n",
        "print(data.duplicated().sum( ))\n",
        "data = data.drop_duplicates(keep = \"last\")\n",
        "print(data.Gender.unique( ))\n",
        "print(data.Geography.unique( ))\n",
        "data = data.rename(columns = rename_cols)\n",
        "data = data.assign(\n",
        "    male=lambda d: np.where(d.gender == 'Male', 1, 0),\n",
        "    france=lambda d: np.where(d.geography == 'France', 1, 0),\n",
        "    germany=lambda d: np.where(d.geography == 'Germany', 1, 0)\n",
        ")\n",
        "data_clean = data"
      ],
      "metadata": {
        "colab": {
          "base_uri": "https://localhost:8080/"
        },
        "id": "KPq2cpqUKr4n",
        "outputId": "709f12b5-1f50-4253-a729-af083456cf49"
      },
      "execution_count": null,
      "outputs": [
        {
          "output_type": "stream",
          "name": "stdout",
          "text": [
            "RowNumber           0\n",
            "CustomerId          0\n",
            "Surname             0\n",
            "CreditScore        93\n",
            "Geography           0\n",
            "Gender              0\n",
            "Age                 0\n",
            "Tenure              0\n",
            "Balance             0\n",
            "NumOfProducts       0\n",
            "HasCrCard           0\n",
            "IsActiveMember      0\n",
            "EstimatedSalary     0\n",
            "Exited              0\n",
            "dtype: int64\n",
            "4\n",
            "['Female' 'Male']\n",
            "['France' 'Spain' 'Germany']\n"
          ]
        }
      ]
    },
    {
      "cell_type": "code",
      "source": [
        "from pprint import pprint\n",
        "from sklearn.preprocessing import StandardScaler\n",
        "from sklearn.cluster import KMeans\n",
        "from scipy.cluster.hierarchy import dendrogram, linkage\n",
        "from sklearn.metrics import confusion_matrix\n",
        "import statsmodels.api as sm\n",
        "from sklearn.discriminant_analysis import LinearDiscriminantAnalysis\n",
        "from sklearn.metrics import accuracy_score\n",
        "from plotnine import (\n",
        "    ggplot,\n",
        "    aes,\n",
        "    geom_point,\n",
        "    geom_line\n",
        ")\n",
        "import matplotlib.pyplot as plt\n",
        "from sklearn.cluster import AgglomerativeClustering"
      ],
      "metadata": {
        "id": "md4vt0I7grEh"
      },
      "execution_count": null,
      "outputs": []
    },
    {
      "cell_type": "code",
      "source": [
        "req_cols = [\"credit_score\", \"balance\", \"num_products\", \"tenure\"]\n",
        "clustering_features = data_clean.loc[:, req_cols]\n",
        "scaler = StandardScaler()\n",
        "scaled_features = scaler.fit_transform(clustering_features)\n",
        "\n",
        "linkage_data = linkage(scaled_features, method='ward', metric='euclidean')\n",
        "dendrogram(linkage_data, no_labels=True)\n",
        "plt.show()"
      ],
      "metadata": {
        "colab": {
          "base_uri": "https://localhost:8080/",
          "height": 415
        },
        "id": "w2wgO7KLcplZ",
        "outputId": "e73f1b0b-8d49-4224-a5ce-8d49152d241f"
      },
      "execution_count": null,
      "outputs": [
        {
          "output_type": "display_data",
          "data": {
            "text/plain": [
              "<Figure size 640x480 with 1 Axes>"
            ],
            "image/png": "[encoded data removed]"
          },
          "metadata": {}
        }
      ]
    },
    {
      "cell_type": "code",
      "source": [
        "def wss_calculation(K, data):\n",
        "    WSS = []\n",
        "    for k in range(1, K+1):\n",
        "        cluster = AgglomerativeClustering(n_clusters=k, linkage='ward')\n",
        "        labels = cluster.fit_predict(data)\n",
        "        wss = 0\n",
        "        for i in range(k):\n",
        "            cluster_points = data[labels == i]\n",
        "            cluster_mean = np.mean(cluster_points, axis=0)\n",
        "            wss += np.sum((cluster_points - cluster_mean) ** 2)\n",
        "        WSS.append(wss)\n",
        "    return WSS"
      ],
      "metadata": {
        "id": "BROF20fQGyWw"
      },
      "execution_count": null,
      "outputs": []
    },
    {
      "cell_type": "code",
      "source": [
        "WSS = wss_calculation(10, scaled_features)\n",
        "plot_data = pd.DataFrame({\"clusters\": range(1, 11), \"WSS\": WSS})\n",
        "(\n",
        "    ggplot(plot_data, aes(x=\"clusters\", y=\"WSS\"))\n",
        "    + geom_point()\n",
        "    + geom_line()\n",
        ").show()\n"
      ],
      "metadata": {
        "colab": {
          "base_uri": "https://localhost:8080/",
          "height": 497
        },
        "id": "sUUEiiurkVjq",
        "outputId": "ef8da72e-4968-4279-e791-6c4fa3ad5519"
      },
      "execution_count": null,
      "outputs": [
        {
          "output_type": "display_data",
          "data": {
            "image/png": "[encoded data removed]"
          },
          "metadata": {
            "image/png": {
              "width": 640,
              "height": 480
            }
          }
        }
      ]
    },
    {
      "cell_type": "code",
      "source": [
        " # My number of clusters in the dendogram corresponds to the elbow.\n",
        "kmeans_model = KMeans(n_clusters=4, random_state=1)\n",
        "data_clean['segment'] = kmeans_model.fit_predict(scaled_features)\n",
        "data_segments = data_clean.copy()\n",
        "\n",
        "average_values = data_segments.groupby('segment')[['credit_score', 'balance', 'num_products', 'tenure']].mean()\n",
        "print(average_values)"
      ],
      "metadata": {
        "colab": {
          "base_uri": "https://localhost:8080/"
        },
        "id": "T5A3R8UOIyCY",
        "outputId": "e3863365-749f-4714-e1b0-a3c7c137edd9"
      },
      "execution_count": null,
      "outputs": [
        {
          "output_type": "stream",
          "name": "stdout",
          "text": [
            "         credit_score        balance  num_products    tenure\n",
            "segment                                                     \n",
            "0          722.292807   28831.709828      1.968910  3.415777\n",
            "1          583.352011   19791.112897      1.892454  6.658382\n",
            "2          624.132273  115630.641550      1.200940  2.400072\n",
            "3          675.036436  119578.115180      1.229437  7.539322\n"
          ]
        }
      ]
    },
    {
      "cell_type": "markdown",
      "source": [
        "Segment 0 consists of customers with excellent credit scores. These individuals are financially responsible and likely to be interested in premium banking products. Although they are relatively new customers, their strong creditworthiness makes them ideal candidates for targeted premium services. I can call them \"Creditworthy Newcomers.\n",
        "\n",
        "Segment 1includes customers who have been with the bank for a long time. Despite having lower credit scores, their long-term relationship with the bank indicates a steady and reliable customer base. These customers might benefit from loyalty programs and retention strategies to maintain their engagement. I can name them \"Longterm Loyal Spenders\".\n",
        "\n",
        "Segment 2 stands out due to their significant spending power. These customers have high balances, indicating they are high-value clients. Although they have a shorter tenure and fewer products, their substantial balances make them ideal for targeted marketing campaigns and premium offers. I can call them \"High Networth Newcomers.\n",
        "\n",
        "Finally, segment 3 comprises customers with high balances and the longest tenure. These individuals have strong, long-term relationships with the bank and are likely to be loyal and valuable over time. Their high credit scores and moderate number of products suggest they are well-established and financially stable. They can be called \"Wealthy Longterm Clients\"."
      ],
      "metadata": {
        "id": "jUESgAniO2v2"
      }
    },
    {
      "cell_type": "code",
      "source": [
        "#4\n",
        "(\n",
        "    data_segments\n",
        "    .groupby(['segment'])\n",
        "    .agg(\n",
        "        total_credit_card_holders=('has_credit', 'sum'),\n",
        "        total_active_members=('is_active', 'sum')\n",
        "    )\n",
        ")\n"
      ],
      "metadata": {
        "colab": {
          "base_uri": "https://localhost:8080/",
          "height": 204
        },
        "id": "j7rNHjK8O_Xj",
        "outputId": "b231a95e-f2c7-4799-da32-6067279b8620"
      },
      "execution_count": null,
      "outputs": [
        {
          "output_type": "execute_result",
          "data": {
            "text/plain": [
              "         total_credit_card_holders  total_active_members\n",
              "segment                                                 \n",
              "0                             1509                  1140\n",
              "1                             1604                  1109\n",
              "2                             1911                  1474\n",
              "3                             1974                  1370"
            ],
            "text/html": [
              "\n",
              "  <div id=\"df-78de79d3-923f-4b78-8e9e-0a9a7019c1d5\" class=\"colab-df-container\">\n",
              "    <div>\n",
              "<style scoped>\n",
              "    .dataframe tbody tr th:only-of-type {\n",
              "        vertical-align: middle;\n",
              "    }\n",
              "\n",
              "    .dataframe tbody tr th {\n",
              "        vertical-align: top;\n",
              "    }\n",
              "\n",
              "    .dataframe thead th {\n",
              "        text-align: right;\n",
              "    }\n",
              "</style>\n",
              "<table border=\"1\" class=\"dataframe\">\n",
              "  <thead>\n",
              "    <tr style=\"text-align: right;\">\n",
              "      <th></th>\n",
              "      <th>total_credit_card_holders</th>\n",
              "      <th>total_active_members</th>\n",
              "    </tr>\n",
              "    <tr>\n",
              "      <th>segment</th>\n",
              "      <th></th>\n",
              "      <th></th>\n",
              "    </tr>\n",
              "  </thead>\n",
              "  <tbody>\n",
              "    <tr>\n",
              "      <th>0</th>\n",
              "      <td>1509</td>\n",
              "      <td>1140</td>\n",
              "    </tr>\n",
              "    <tr>\n",
              "      <th>1</th>\n",
              "      <td>1604</td>\n",
              "      <td>1109</td>\n",
              "    </tr>\n",
              "    <tr>\n",
              "      <th>2</th>\n",
              "      <td>1911</td>\n",
              "      <td>1474</td>\n",
              "    </tr>\n",
              "    <tr>\n",
              "      <th>3</th>\n",
              "      <td>1974</td>\n",
              "      <td>1370</td>\n",
              "    </tr>\n",
              "  </tbody>\n",
              "</table>\n",
              "</div>\n",
              "    <div class=\"colab-df-buttons\">\n",
              "\n",
              "  <div class=\"colab-df-container\">\n",
              "    <button class=\"colab-df-convert\" onclick=\"convertToInteractive('df-78de79d3-923f-4b78-8e9e-0a9a7019c1d5')\"\n",
              "            title=\"Convert this dataframe to an interactive table.\"\n",
              "            style=\"display:none;\">\n",
              "\n",
              "  <svg xmlns=\"http://www.w3.org/2000/svg\" height=\"24px\" viewBox=\"0 -960 960 960\">\n",
              "    <path d=\"M120-120v-720h720v720H120Zm60-500h600v-160H180v160Zm220 220h160v-160H400v160Zm0 220h160v-160H400v160ZM180-400h160v-160H180v160Zm440 0h160v-160H620v160ZM180-180h160v-160H180v160Zm440 0h160v-160H620v160Z\"/>\n",
              "  </svg>\n",
              "    </button>\n",
              "\n",
              "  <style>\n",
              "    .colab-df-container {\n",
              "      display:flex;\n",
              "      gap: 12px;\n",
              "    }\n",
              "\n",
              "    .colab-df-convert {\n",
              "      background-color: #E8F0FE;\n",
              "      border: none;\n",
              "      border-radius: 50%;\n",
              "      cursor: pointer;\n",
              "      display: none;\n",
              "      fill: #1967D2;\n",
              "      height: 32px;\n",
              "      padding: 0 0 0 0;\n",
              "      width: 32px;\n",
              "    }\n",
              "\n",
              "    .colab-df-convert:hover {\n",
              "      background-color: #E2EBFA;\n",
              "      box-shadow: 0px 1px 2px rgba(60, 64, 67, 0.3), 0px 1px 3px 1px rgba(60, 64, 67, 0.15);\n",
              "      fill: #174EA6;\n",
              "    }\n",
              "\n",
              "    .colab-df-buttons div {\n",
              "      margin-bottom: 4px;\n",
              "    }\n",
              "\n",
              "    [theme=dark] .colab-df-convert {\n",
              "      background-color: #3B4455;\n",
              "      fill: #D2E3FC;\n",
              "    }\n",
              "\n",
              "    [theme=dark] .colab-df-convert:hover {\n",
              "      background-color: #434B5C;\n",
              "      box-shadow: 0px 1px 3px 1px rgba(0, 0, 0, 0.15);\n",
              "      filter: drop-shadow(0px 1px 2px rgba(0, 0, 0, 0.3));\n",
              "      fill: #FFFFFF;\n",
              "    }\n",
              "  </style>\n",
              "\n",
              "    <script>\n",
              "      const buttonEl =\n",
              "        document.querySelector('#df-78de79d3-923f-4b78-8e9e-0a9a7019c1d5 button.colab-df-convert');\n",
              "      buttonEl.style.display =\n",
              "        google.colab.kernel.accessAllowed ? 'block' : 'none';\n",
              "\n",
              "      async function convertToInteractive(key) {\n",
              "        const element = document.querySelector('#df-78de79d3-923f-4b78-8e9e-0a9a7019c1d5');\n",
              "        const dataTable =\n",
              "          await google.colab.kernel.invokeFunction('convertToInteractive',\n",
              "                                                    [key], {});\n",
              "        if (!dataTable) return;\n",
              "\n",
              "        const docLinkHtml = 'Like what you see? Visit the ' +\n",
              "          '<a target=\"_blank\" href=https://colab.research.google.com/notebooks/data_table.ipynb>data table notebook</a>'\n",
              "          + ' to learn more about interactive tables.';\n",
              "        element.innerHTML = '';\n",
              "        dataTable['output_type'] = 'display_data';\n",
              "        await google.colab.output.renderOutput(dataTable, element);\n",
              "        const docLink = document.createElement('div');\n",
              "        docLink.innerHTML = docLinkHtml;\n",
              "        element.appendChild(docLink);\n",
              "      }\n",
              "    </script>\n",
              "  </div>\n",
              "\n",
              "\n",
              "<div id=\"df-25b2847d-6383-4d90-8666-c69353b2a25c\">\n",
              "  <button class=\"colab-df-quickchart\" onclick=\"quickchart('df-25b2847d-6383-4d90-8666-c69353b2a25c')\"\n",
              "            title=\"Suggest charts\"\n",
              "            style=\"display:none;\">\n",
              "\n",
              "<svg xmlns=\"http://www.w3.org/2000/svg\" height=\"24px\"viewBox=\"0 0 24 24\"\n",
              "     width=\"24px\">\n",
              "    <g>\n",
              "        <path d=\"M19 3H5c-1.1 0-2 .9-2 2v14c0 1.1.9 2 2 2h14c1.1 0 2-.9 2-2V5c0-1.1-.9-2-2-2zM9 17H7v-7h2v7zm4 0h-2V7h2v10zm4 0h-2v-4h2v4z\"/>\n",
              "    </g>\n",
              "</svg>\n",
              "  </button>\n",
              "\n",
              "<style>\n",
              "  .colab-df-quickchart {\n",
              "      --bg-color: #E8F0FE;\n",
              "      --fill-color: #1967D2;\n",
              "      --hover-bg-color: #E2EBFA;\n",
              "      --hover-fill-color: #174EA6;\n",
              "      --disabled-fill-color: #AAA;\n",
              "      --disabled-bg-color: #DDD;\n",
              "  }\n",
              "\n",
              "  [theme=dark] .colab-df-quickchart {\n",
              "      --bg-color: #3B4455;\n",
              "      --fill-color: #D2E3FC;\n",
              "      --hover-bg-color: #434B5C;\n",
              "      --hover-fill-color: #FFFFFF;\n",
              "      --disabled-bg-color: #3B4455;\n",
              "      --disabled-fill-color: #666;\n",
              "  }\n",
              "\n",
              "  .colab-df-quickchart {\n",
              "    background-color: var(--bg-color);\n",
              "    border: none;\n",
              "    border-radius: 50%;\n",
              "    cursor: pointer;\n",
              "    display: none;\n",
              "    fill: var(--fill-color);\n",
              "    height: 32px;\n",
              "    padding: 0;\n",
              "    width: 32px;\n",
              "  }\n",
              "\n",
              "  .colab-df-quickchart:hover {\n",
              "    background-color: var(--hover-bg-color);\n",
              "    box-shadow: 0 1px 2px rgba(60, 64, 67, 0.3), 0 1px 3px 1px rgba(60, 64, 67, 0.15);\n",
              "    fill: var(--button-hover-fill-color);\n",
              "  }\n",
              "\n",
              "  .colab-df-quickchart-complete:disabled,\n",
              "  .colab-df-quickchart-complete:disabled:hover {\n",
              "    background-color: var(--disabled-bg-color);\n",
              "    fill: var(--disabled-fill-color);\n",
              "    box-shadow: none;\n",
              "  }\n",
              "\n",
              "  .colab-df-spinner {\n",
              "    border: 2px solid var(--fill-color);\n",
              "    border-color: transparent;\n",
              "    border-bottom-color: var(--fill-color);\n",
              "    animation:\n",
              "      spin 1s steps(1) infinite;\n",
              "  }\n",
              "\n",
              "  @keyframes spin {\n",
              "    0% {\n",
              "      border-color: transparent;\n",
              "      border-bottom-color: var(--fill-color);\n",
              "      border-left-color: var(--fill-color);\n",
              "    }\n",
              "    20% {\n",
              "      border-color: transparent;\n",
              "      border-left-color: var(--fill-color);\n",
              "      border-top-color: var(--fill-color);\n",
              "    }\n",
              "    30% {\n",
              "      border-color: transparent;\n",
              "      border-left-color: var(--fill-color);\n",
              "      border-top-color: var(--fill-color);\n",
              "      border-right-color: var(--fill-color);\n",
              "    }\n",
              "    40% {\n",
              "      border-color: transparent;\n",
              "      border-right-color: var(--fill-color);\n",
              "      border-top-color: var(--fill-color);\n",
              "    }\n",
              "    60% {\n",
              "      border-color: transparent;\n",
              "      border-right-color: var(--fill-color);\n",
              "    }\n",
              "    80% {\n",
              "      border-color: transparent;\n",
              "      border-right-color: var(--fill-color);\n",
              "      border-bottom-color: var(--fill-color);\n",
              "    }\n",
              "    90% {\n",
              "      border-color: transparent;\n",
              "      border-bottom-color: var(--fill-color);\n",
              "    }\n",
              "  }\n",
              "</style>\n",
              "\n",
              "  <script>\n",
              "    async function quickchart(key) {\n",
              "      const quickchartButtonEl =\n",
              "        document.querySelector('#' + key + ' button');\n",
              "      quickchartButtonEl.disabled = true;  // To prevent multiple clicks.\n",
              "      quickchartButtonEl.classList.add('colab-df-spinner');\n",
              "      try {\n",
              "        const charts = await google.colab.kernel.invokeFunction(\n",
              "            'suggestCharts', [key], {});\n",
              "      } catch (error) {\n",
              "        console.error('Error during call to suggestCharts:', error);\n",
              "      }\n",
              "      quickchartButtonEl.classList.remove('colab-df-spinner');\n",
              "      quickchartButtonEl.classList.add('colab-df-quickchart-complete');\n",
              "    }\n",
              "    (() => {\n",
              "      let quickchartButtonEl =\n",
              "        document.querySelector('#df-25b2847d-6383-4d90-8666-c69353b2a25c button');\n",
              "      quickchartButtonEl.style.display =\n",
              "        google.colab.kernel.accessAllowed ? 'block' : 'none';\n",
              "    })();\n",
              "  </script>\n",
              "</div>\n",
              "\n",
              "    </div>\n",
              "  </div>\n"
            ],
            "application/vnd.google.colaboratory.intrinsic+json": {
              "type": "dataframe",
              "summary": "{\n  \"name\": \")\",\n  \"rows\": 4,\n  \"fields\": [\n    {\n      \"column\": \"segment\",\n      \"properties\": {\n        \"dtype\": \"int32\",\n        \"num_unique_values\": 4,\n        \"samples\": [\n          1,\n          3,\n          0\n        ],\n        \"semantic_type\": \"\",\n        \"description\": \"\"\n      }\n    },\n    {\n      \"column\": \"total_credit_card_holders\",\n      \"properties\": {\n        \"dtype\": \"number\",\n        \"std\": 227,\n        \"min\": 1509,\n        \"max\": 1974,\n        \"num_unique_values\": 4,\n        \"samples\": [\n          1604,\n          1974,\n          1509\n        ],\n        \"semantic_type\": \"\",\n        \"description\": \"\"\n      }\n    },\n    {\n      \"column\": \"total_active_members\",\n      \"properties\": {\n        \"dtype\": \"number\",\n        \"std\": 177,\n        \"min\": 1109,\n        \"max\": 1474,\n        \"num_unique_values\": 4,\n        \"samples\": [\n          1109,\n          1370,\n          1140\n        ],\n        \"semantic_type\": \"\",\n        \"description\": \"\"\n      }\n    }\n  ]\n}"
            }
          },
          "metadata": {},
          "execution_count": 12
        }
      ]
    },
    {
      "cell_type": "markdown",
      "source": [
        "Although Segment 3 has slightly more credit card holders (1974 against 1911), Segment 2 has the highest number of active members (1474), making Segment 2 the most viable segment. High active membership indicates better engagement, which is often a stronger predictor of customer loyalty and long-term value.\n",
        "Segment 3 has more credit card holders, and a slightly lower number of active members (1370) suggests slightly less engagement compared to Segment 2, making it the second-best."
      ],
      "metadata": {
        "id": "qqk5pVgNP-Zx"
      }
    },
    {
      "cell_type": "code",
      "source": [
        "#5\n",
        "cols_used = ['male', 'age', 'est_salary', 'france', 'germany']\n",
        "descriptors = data_segments.loc[:,cols_used]\n",
        "segment = data_segments['segment']\n",
        "\n",
        "lda = LinearDiscriminantAnalysis()\n",
        "lda.fit(descriptors, segment)\n",
        "predicted_segment = lda.predict(descriptors)\n",
        "\n",
        "lda_segmentation = ( data_segments).assign(predicted_segment = predicted_segment)\n",
        "# display only the segment and predicted_segment columns\n",
        "lda_segmentation.loc[:,[\"segment\",\"predicted_segment\"]]\n",
        "\n",
        "accuracy = accuracy_score(segment, predicted_segment)\n",
        "print(f'The accuracy of the LDA model and segment: {accuracy * 100:.2f}%')"
      ],
      "metadata": {
        "colab": {
          "base_uri": "https://localhost:8080/"
        },
        "id": "NAZLPDBORh7o",
        "outputId": "54895785-6bdf-4617-c804-52ec4f7718ec"
      },
      "execution_count": null,
      "outputs": [
        {
          "output_type": "stream",
          "name": "stdout",
          "text": [
            "The accuracy of the LDA model and segment: 30.49%\n"
          ]
        }
      ]
    },
    {
      "cell_type": "markdown",
      "source": [
        "The result of 30.49% accuracy is low, this means that the customer variables (male, age, est_salary, france, germany) may not be sufficient to reliably predict the cluster labels created by KMeans. We might consider adding some more variables."
      ],
      "metadata": {
        "id": "ajd5mPKjUHt6"
      }
    }
  ],
  "metadata": {
    "kernelspec": {
      "display_name": "Python 3",
      "language": "python",
      "name": "python3"
    },
    "language_info": {
      "codemirror_mode": {
        "name": "ipython",
        "version": 3
      },
      "file_extension": ".py",
      "mimetype": "text/x-python",
      "name": "python",
      "nbconvert_exporter": "python",
      "pygments_lexer": "ipython3",
      "version": "3.10.13"
    },
    "colab": {
      "provenance": [],
      "include_colab_link": true
    }
  },
  "nbformat": 4,
  "nbformat_minor": 0
}